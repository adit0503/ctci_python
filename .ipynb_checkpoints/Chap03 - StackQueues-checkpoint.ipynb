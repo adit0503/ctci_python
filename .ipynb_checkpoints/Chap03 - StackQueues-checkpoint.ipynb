{
 "cells": [
  {
   "cell_type": "markdown",
   "metadata": {},
   "source": [
    "# Stacks and Queues\n",
    "<pre>\n",
    "3.1  Three in One*\n",
    "3.2  Stack Min*\n",
    "3.3  Stack of Plates*\n",
    "3.4  Queue via Stacks*\n",
    "3.5  Sort Stack\n",
    "3.6  Animal Shelter  \n",
    "</pre>"
   ]
  },
  {
   "cell_type": "markdown",
   "metadata": {},
   "source": [
    "### [3.1 Three in One](https://leetcode.com/problems/implement-stack-using-queues/)"
   ]
  },
  {
   "cell_type": "markdown",
   "metadata": {},
   "source": [
    "### [3.2 Stack Min](https://leetcode.com/problems/min-stack/)"
   ]
  },
  {
   "cell_type": "code",
   "execution_count": null,
   "metadata": {},
   "outputs": [],
   "source": [
    "#O(n) - using a variable to store minimum value, but pop() is O(n)\n",
    "\n",
    "import sys\n",
    "class MinStack:\n",
    "    def __init__(self):\n",
    "        self.stack = []\n",
    "        self.min = sys.maxsize\n",
    "        \n",
    "    def push(self,x):\n",
    "        self.stack.append(x)\n",
    "        self.min = min(x,self.min)\n",
    "    \n",
    "    def pop(self):\n",
    "        p = self.stack.pop()\n",
    "        if p == self.min:\n",
    "            for s in self.stack:\n",
    "                self.min = min(s,self.min)\n",
    "        \n",
    "    def getMin(self):\n",
    "        return self.min    "
   ]
  },
  {
   "cell_type": "code",
   "execution_count": null,
   "metadata": {},
   "outputs": [],
   "source": [
    "#O(1) - using a stack to store minimum value\n",
    "\n",
    "import sys\n",
    "class MinStack:\n",
    "    def __init__(self):\n",
    "        self.stack = []\n",
    "        self.minStack = []\n",
    "        \n",
    "    def push(self,x):\n",
    "        self.stack.append(x)  \n",
    "        if x <= self.getMin():\n",
    "            self.minStack.append(x)\n",
    "    \n",
    "    def pop(self):\n",
    "        if self.stack.pop() == self.getMin():\n",
    "            self.minStack.pop()\n",
    "        \n",
    "    def top(self):\n",
    "        return self.stack[-1]\n",
    "        \n",
    "    def getMin(self):\n",
    "        if not self.minStack:\n",
    "            return sys.maxsize\n",
    "        return self.minStack[-1]"
   ]
  },
  {
   "cell_type": "markdown",
   "metadata": {},
   "source": [
    "### [3.3 Stack of Plates](https://leetcode.com/problems/dinner-plate-stacks/)"
   ]
  },
  {
   "cell_type": "markdown",
   "metadata": {},
   "source": [
    "### [3.4 Queue via Stacks](https://leetcode.com/problems/implement-queue-using-stacks/)"
   ]
  },
  {
   "cell_type": "markdown",
   "metadata": {},
   "source": [
    "### 3.5 Sort Stack"
   ]
  },
  {
   "cell_type": "code",
   "execution_count": null,
   "metadata": {},
   "outputs": [],
   "source": [
    "#O(n2) - using one temp stack\n",
    "\n",
    "def rearrange(temp,stack,p):\n",
    "    while(temp and temp[-1]>p):\n",
    "        stack.append(temp.pop())\n",
    "    temp.append(p)\n",
    "\n",
    "def sortStack(stack):\n",
    "    temp = []\n",
    "    \n",
    "    while(stack):\n",
    "        p = stack.pop()\n",
    "        if not temp:\n",
    "            temp.append(p)\n",
    "        else:\n",
    "            if p > temp[-1]:\n",
    "                temp.append(p)\n",
    "            else:\n",
    "                rearrange(temp,stack,p)\n",
    "    while(temp):\n",
    "        stack.append(temp.pop())\n",
    "        \n",
    "    return stack"
   ]
  },
  {
   "cell_type": "code",
   "execution_count": null,
   "metadata": {},
   "outputs": [],
   "source": [
    "stack = [3,2,6,5,8,7,9,1,4,10]\n",
    "sortStack(stack)\n",
    "stack"
   ]
  },
  {
   "cell_type": "markdown",
   "metadata": {},
   "source": [
    "### 3.6 Animal Shelter"
   ]
  }
 ],
 "metadata": {
  "kernelspec": {
   "display_name": "Python 3",
   "language": "python",
   "name": "python3"
  },
  "language_info": {
   "codemirror_mode": {
    "name": "ipython",
    "version": 3
   },
   "file_extension": ".py",
   "mimetype": "text/x-python",
   "name": "python",
   "nbconvert_exporter": "python",
   "pygments_lexer": "ipython3",
   "version": "3.6.9"
  }
 },
 "nbformat": 4,
 "nbformat_minor": 4
}
