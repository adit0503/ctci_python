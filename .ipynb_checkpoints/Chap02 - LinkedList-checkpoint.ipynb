{
 "cells": [
  {
   "cell_type": "markdown",
   "metadata": {},
   "source": [
    "# 2. Linked List\n",
    "1. [Remove Dups](#2.1)\n",
    "2. [Return Kth to Last](#2.2)\n",
    "3. [Delete Middle Node](#2.3)\n",
    "4. [Partiton](#2.4)\n",
    "5. [Sum Lists](#2.5)\n",
    "6. [Palindrome](#2.6)\n",
    "7. [Intersection](#2.7)\n",
    "8. [Loop Detection](#2.8)"
   ]
  },
  {
   "cell_type": "code",
   "execution_count": null,
   "metadata": {},
   "outputs": [],
   "source": [
    "class ListNode:\n",
    "    def __init__(self,val=0,next=None):\n",
    "        self.val = val\n",
    "        self.next = next\n",
    "        \n",
    "def arrayToList(nums):\n",
    "    dummyRoot = ListNode()\n",
    "    ptr = dummyRoot\n",
    "    for n in nums:\n",
    "        ptr.next = ListNode(n)\n",
    "        ptr = ptr.next\n",
    "\n",
    "    ptr = dummyRoot.next\n",
    "    return ptr\n",
    "\n",
    "def arrayToCirList(nums):\n",
    "    dummyRoot = ListNode()\n",
    "    ptr = dummyRoot\n",
    "    for n in nums:\n",
    "        ptr.next = ListNode(n)\n",
    "        ptr = ptr.next\n",
    "    ptr.next = dummyRoot.next\n",
    "    ptr = dummyRoot.next\n",
    "    return ptr\n",
    "\n",
    "def listToArray(node):\n",
    "    ans = []\n",
    "    while(node):\n",
    "        ans.append(node.val)\n",
    "        node = node.next\n",
    "    return ans\n",
    "\n",
    "def printNode(node):\n",
    "    return node.val"
   ]
  },
  {
   "cell_type": "markdown",
   "metadata": {},
   "source": [
    "<a id='2.1'></a>\n",
    "### [2.1 Remove Dups](https://leetcode.com/problems/remove-duplicates-from-sorted-list/)"
   ]
  },
  {
   "cell_type": "code",
   "execution_count": null,
   "metadata": {},
   "outputs": [],
   "source": [
    "#O(n) - using an unsorted LL\n",
    "\n",
    "def removeDups(head):    \n",
    "    temp = {head.val}\n",
    "    node = head\n",
    "    while(node.next):\n",
    "        if node.next.val in temp:\n",
    "            node.next = node.next.next\n",
    "        else:\n",
    "            temp.add(node.val)\n",
    "            node = node.next\n",
    "    return head"
   ]
  },
  {
   "cell_type": "code",
   "execution_count": null,
   "metadata": {},
   "outputs": [],
   "source": [
    "head = arrayToList([3,4,2,6,5,7,8,4,3,2,1,9,8,7,6,5,4,5,6,3,2])\n",
    "listToArray(removeDups(head))"
   ]
  },
  {
   "cell_type": "code",
   "execution_count": null,
   "metadata": {},
   "outputs": [],
   "source": [
    "#O(n) - using a sorted LL\n",
    "\n",
    "def removeDups2(head):\n",
    "    node1 = node2 = head\n",
    "    while(node1):\n",
    "        while(node2 and node1.val == node2.val):\n",
    "            node2 = node2.next\n",
    "        node1.next = node2\n",
    "        node1 = node2\n",
    "    return head"
   ]
  },
  {
   "cell_type": "code",
   "execution_count": null,
   "metadata": {},
   "outputs": [],
   "source": [
    "head = arrayToList([1,1,2,3,4,5,5,5,5,6,7,8,8,8,8,9,9,9,9,9])\n",
    "listToArray(removeDups2(head))"
   ]
  },
  {
   "cell_type": "markdown",
   "metadata": {},
   "source": [
    "<a id='2.2'></a>\n",
    "### 2.2 Return Kth to Last"
   ]
  },
  {
   "cell_type": "code",
   "execution_count": null,
   "metadata": {},
   "outputs": [],
   "source": [
    "#O(n) - first find full length and then traverse again\n",
    "\n",
    "def returnKLast(head,k):\n",
    "    l = 0\n",
    "    node = head\n",
    "    while(node):\n",
    "        l += 1\n",
    "        node = node.next\n",
    "    n = l-k\n",
    "    node = head\n",
    "    while(n>0):\n",
    "        n -= 1\n",
    "        node = node.next\n",
    "    return node.val"
   ]
  },
  {
   "cell_type": "code",
   "execution_count": null,
   "metadata": {},
   "outputs": [],
   "source": [
    "head = arrayToList([1,2,3,4,5,6,7,8,9])\n",
    "returnKLast(head,9)"
   ]
  },
  {
   "cell_type": "code",
   "execution_count": null,
   "metadata": {},
   "outputs": [],
   "source": [
    "#O(n) - using two pointers\n",
    "\n",
    "def returnKLast2(head,k):\n",
    "    node1 = node2 = head\n",
    "    while(k > 0):\n",
    "        k -= 1\n",
    "        node2 = node2.next\n",
    "    while(node2):\n",
    "        node1 = node1.next\n",
    "        node2 = node2.next\n",
    "    return node1.val"
   ]
  },
  {
   "cell_type": "code",
   "execution_count": null,
   "metadata": {},
   "outputs": [],
   "source": [
    "head = arrayToList([1,2,3,4,5,6,7,8,9])\n",
    "returnKLast2(head,9)"
   ]
  },
  {
   "cell_type": "code",
   "execution_count": null,
   "metadata": {},
   "outputs": [],
   "source": [
    "#O(n) - using recursion\n",
    "\n",
    "def returnKLast3(node,k,idx):\n",
    "    if not node:\n",
    "        return None\n",
    "    \n",
    "    N = returnKLast3(node.next,k,idx)\n",
    "    \n",
    "    idx[0] += 1\n",
    "    if idx[0] == k:\n",
    "        return node.val\n",
    "    \n",
    "    return N"
   ]
  },
  {
   "cell_type": "code",
   "execution_count": null,
   "metadata": {},
   "outputs": [],
   "source": [
    "head = arrayToList([1,2,3,4,5,6,7,8,9])\n",
    "returnKLast3(head,6,[0])"
   ]
  },
  {
   "cell_type": "markdown",
   "metadata": {},
   "source": [
    "<a id='2.3'></a>\n",
    "### [2.3 Delete any Middle Nodes](https://leetcode.com/problems/delete-node-in-a-linked-list/)"
   ]
  },
  {
   "cell_type": "code",
   "execution_count": null,
   "metadata": {},
   "outputs": [],
   "source": [
    "#O(1) - node to be deleted is given\n",
    "\n",
    "def deleteMiddleNode(node):\n",
    "    node.val = node.next.val\n",
    "    node.next = node.next.next"
   ]
  },
  {
   "cell_type": "code",
   "execution_count": null,
   "metadata": {},
   "outputs": [],
   "source": [
    "#O(n) - value of node is given\n",
    "\n",
    "def deleteMiddleNode(head,k):\n",
    "    node = head\n",
    "    while(node.next):\n",
    "        if node.next.val == k:\n",
    "            node.next = node.next.next\n",
    "        node = node.next\n",
    "    return head"
   ]
  },
  {
   "cell_type": "code",
   "execution_count": null,
   "metadata": {},
   "outputs": [],
   "source": [
    "head = arrayToList([1,2,3,4,5,6,7,8,9])\n",
    "listToArray(deleteMiddleNode(head,8))"
   ]
  },
  {
   "cell_type": "markdown",
   "metadata": {},
   "source": [
    "<a id='2.4'></a>\n",
    "### [2.4 Partition](https://leetcode.com/problems/partition-list/)"
   ]
  },
  {
   "cell_type": "code",
   "execution_count": null,
   "metadata": {},
   "outputs": [],
   "source": [
    "def partition(head,k):\n",
    "    leftStart = leftEnd = None\n",
    "    rightStart = rightEnd = None\n",
    "    node = head\n",
    "    while(node):\n",
    "        nodeNext = node.next\n",
    "        node.next = None\n",
    "        if node.val < k:\n",
    "            if not leftStart:\n",
    "                leftStart = node\n",
    "                leftEnd = leftStart\n",
    "            else:\n",
    "                leftEnd.next = node\n",
    "                leftEnd = node\n",
    "        else:\n",
    "            if not rightStart:\n",
    "                rightStart = node\n",
    "                rightEnd = rightStart\n",
    "            else:\n",
    "                rightEnd.next = node\n",
    "                rightEnd = node\n",
    "        node = nodeNext\n",
    "    if not leftStart:\n",
    "        return rightStart\n",
    "    leftEnd.next = rightStart\n",
    "    return leftStart"
   ]
  },
  {
   "cell_type": "code",
   "execution_count": null,
   "metadata": {},
   "outputs": [],
   "source": [
    "head = arrayToList([3,5,8,5,10,2,1])\n",
    "listToArray(partition(head,5))"
   ]
  },
  {
   "cell_type": "markdown",
   "metadata": {},
   "source": [
    "<a id='2.5'></a>\n",
    "### [2.5 Sum Lists](https://leetcode.com/problems/add-two-numbers/)"
   ]
  },
  {
   "cell_type": "code",
   "execution_count": null,
   "metadata": {},
   "outputs": [],
   "source": [
    "#O(max(n,m)) - using iterative solution\n",
    "\n",
    "def sumLists(head1,head2):\n",
    "    \n",
    "    head3 = ListNode()\n",
    "    node3 = head3\n",
    "    carry = 0\n",
    "    while(head1 and head2):\n",
    "        val = head1.val + head2.val + carry\n",
    "        node3.next =  ListNode(val%10)\n",
    "        carry = val//10\n",
    "        head1 = head1.next\n",
    "        head2 = head2.next\n",
    "        node3 = node3.next\n",
    "    \n",
    "    while(head1):\n",
    "        val = head1.val + carry\n",
    "        node3.next =  ListNode(val%10)\n",
    "        carry = val // 10\n",
    "        head1 = head1.next\n",
    "        node3 = node3.next\n",
    "            \n",
    "    while(head2):\n",
    "        val = head2.val + carry\n",
    "        node3.next =  ListNode(val%10)\n",
    "        carry = val // 10\n",
    "        head2 = head2.next\n",
    "        node3 = node3.next\n",
    "    \n",
    "    if carry:\n",
    "        node3.next = ListNode(carry)\n",
    "        \n",
    "    return head3.next"
   ]
  },
  {
   "cell_type": "code",
   "execution_count": null,
   "metadata": {},
   "outputs": [],
   "source": [
    "head1 = arrayToList([0])\n",
    "head2 = arrayToList([7,3])\n",
    "listToArray(sumLists(head1,head2))"
   ]
  },
  {
   "cell_type": "code",
   "execution_count": null,
   "metadata": {},
   "outputs": [],
   "source": [
    "#O(n) - using recursion\n",
    "\n",
    "def sumLists2(node1,node2,carry):\n",
    "    if (not node1) and (not node2) and (carry == 0):\n",
    "        return None\n",
    "    \n",
    "    ans = ListNode()\n",
    "    val = carry\n",
    "    if node1:\n",
    "        val += node1.val\n",
    "    if node2:\n",
    "        val += node2.val\n",
    "        \n",
    "    ans.val = val%10\n",
    "    if node1 or node2:\n",
    "        node3 = sumLists2(node1.next if node1 else None, node2.next if node2 else None, val//10)\n",
    "        ans.next = node3\n",
    "    \n",
    "    return ans"
   ]
  },
  {
   "cell_type": "code",
   "execution_count": null,
   "metadata": {},
   "outputs": [],
   "source": [
    "head1 = arrayToList([0])\n",
    "head2 = arrayToList([7,3])\n",
    "listToArray(sumLists2(head1,head2,0))"
   ]
  },
  {
   "cell_type": "markdown",
   "metadata": {},
   "source": [
    "#### [FOLLOW UP:](https://leetcode.com/problems/add-two-numbers-ii/)"
   ]
  },
  {
   "cell_type": "code",
   "execution_count": null,
   "metadata": {},
   "outputs": [],
   "source": [
    "#O(n) - using reverse technique\n",
    "\n",
    "def sumLists3(head1,head2):\n",
    "    \n",
    "    def reverse(head):\n",
    "        node = head\n",
    "        reverse = None\n",
    "        while(node):\n",
    "            nodeNext = node.next\n",
    "            node.next = reverse\n",
    "            reverse = node\n",
    "            node = nodeNext\n",
    "        return reverse\n",
    "    \n",
    "    ans = sumLists(reverse(head1),reverse(head2))\n",
    "    return reverse(ans)"
   ]
  },
  {
   "cell_type": "code",
   "execution_count": null,
   "metadata": {},
   "outputs": [],
   "source": [
    "head1 = arrayToList([9,9,9,9,9,9])\n",
    "head2 = arrayToList([9,9])\n",
    "listToArray(sumLists3(head1,head2))"
   ]
  },
  {
   "cell_type": "code",
   "execution_count": null,
   "metadata": {},
   "outputs": [],
   "source": [
    "#O(n) - using recursion\n",
    "\n",
    "class partialSum:\n",
    "    def __init__(self,sumNode = None,carry = 0):\n",
    "        self.sumNode = sumNode\n",
    "        self.carry = carry\n",
    "\n",
    "def length(head):\n",
    "    node = head\n",
    "    l = 0\n",
    "    while(node):\n",
    "        l += 1\n",
    "        node = node.next\n",
    "    return l\n",
    "\n",
    "def insertBefore(head,val=0):\n",
    "    node = ListNode(val)\n",
    "    node.next = head\n",
    "    head = node\n",
    "    return head\n",
    "\n",
    "def padList(head,l):\n",
    "    while(l > 0):\n",
    "        head = insertBefore(head)\n",
    "        l -= 1\n",
    "    return head\n",
    "\n",
    "def addLists(node1,node2):\n",
    "    if (not node1) and (not node2):\n",
    "        resNode = partialSum()\n",
    "        return resNode\n",
    "    \n",
    "    res = addLists(node1.next,node2.next)\n",
    "    val = res.carry + node1.val + node2.val\n",
    "    finalRes = insertBefore(res.sumNode,val%10)\n",
    "    \n",
    "    res.sumNode = finalRes\n",
    "    res.carry = val // 10\n",
    "    return res\n",
    "    \n",
    "def sumLists4(head1,head2):\n",
    "    l1 = length(head1)\n",
    "    l2 = length(head2)\n",
    "    \n",
    "    if l1>l2:\n",
    "        head2 = padList(head2,l1-l2)\n",
    "    elif l2>l1:\n",
    "        head1 = padList(head1,l2-l1)\n",
    "        \n",
    "    ans = addLists(head1,head2)\n",
    "    if ans.carry > 0:\n",
    "        ans.sumNode = insertBefore(ans.sumNode, ans.carry)\n",
    "    return ans.sumNode"
   ]
  },
  {
   "cell_type": "code",
   "execution_count": null,
   "metadata": {},
   "outputs": [],
   "source": [
    "head1 = arrayToList([9,9,9])\n",
    "head2 = arrayToList([9,9])\n",
    "listToArray(sumLists4(head1,head2))"
   ]
  },
  {
   "cell_type": "markdown",
   "metadata": {},
   "source": [
    "<a id='2.6'></a>\n",
    "### [2.6 Palindrome](https://leetcode.com/problems/palindrome-linked-list/)"
   ]
  },
  {
   "cell_type": "code",
   "execution_count": null,
   "metadata": {},
   "outputs": [],
   "source": [
    "#O(n) - reverse + compare (brute force)\n",
    "\n",
    "def palindrome(head):\n",
    "    if not head:\n",
    "        return True\n",
    "    \n",
    "    reverse = ListNode(head.val)\n",
    "    node = head.next\n",
    "    while(node):\n",
    "        r = ListNode(node.val)\n",
    "        r.next = reverse\n",
    "        reverse = r\n",
    "        node = node.next\n",
    "    \n",
    "    r = reverse\n",
    "    n = head\n",
    "    while(r and n):\n",
    "        if r.val != n.val:\n",
    "            return False\n",
    "        r = r.next\n",
    "        n = n.next\n",
    "    return True"
   ]
  },
  {
   "cell_type": "code",
   "execution_count": null,
   "metadata": {},
   "outputs": [],
   "source": [
    "head = arrayToList([0,1,2,1,0])\n",
    "palindrome(head)"
   ]
  },
  {
   "cell_type": "code",
   "execution_count": null,
   "metadata": {},
   "outputs": [],
   "source": [
    "#O(n) - using stacks (iterative)\n",
    "\n",
    "def palindrome2(head):\n",
    "    stack = []\n",
    "    slow = fast = head\n",
    "    while(fast and fast.next):\n",
    "        stack.append(slow.val)\n",
    "        slow = slow.next\n",
    "        fast = fast.next.next\n",
    "        \n",
    "    if fast:\n",
    "        slow = slow.next\n",
    "        \n",
    "    while(slow):\n",
    "        if stack.pop() != slow.val:\n",
    "            return False\n",
    "        slow = slow.next\n",
    "    return True"
   ]
  },
  {
   "cell_type": "code",
   "execution_count": null,
   "metadata": {},
   "outputs": [],
   "source": [
    "head = arrayToList([1,2,3,4,5,3,2,1])\n",
    "palindrome2(head)"
   ]
  },
  {
   "cell_type": "code",
   "execution_count": null,
   "metadata": {},
   "outputs": [],
   "source": [
    "#O(n) - using recursion\n",
    "\n",
    "class Result:\n",
    "    def __init__(self, node= None, result = False):\n",
    "        self.node = node\n",
    "        self.result = result\n",
    "\n",
    "def length(head):\n",
    "    node = head\n",
    "    l = 0\n",
    "    while(node):\n",
    "        l += 1\n",
    "        node = node.next\n",
    "    return l\n",
    "        \n",
    "def palindrome3(node, l):\n",
    "    if (not node) or l<=0:\n",
    "        return Result(node,True)\n",
    "    elif l==1:\n",
    "        return Result(node.next,True)\n",
    "    \n",
    "    ans = palindrome3(node.next, l-2)\n",
    "    \n",
    "    if (not ans.result) or (not ans.node):\n",
    "        return ans\n",
    "    \n",
    "    ans.result = node.val == ans.node.val\n",
    "    ans.node = ans.node.next\n",
    "    return ans"
   ]
  },
  {
   "cell_type": "code",
   "execution_count": null,
   "metadata": {},
   "outputs": [],
   "source": [
    "head = arrayToList([1,2,3,4,3,2,1])\n",
    "A = palindrome3(head,length(head))\n",
    "A.result"
   ]
  },
  {
   "cell_type": "markdown",
   "metadata": {},
   "source": [
    "<a id='2.7'></a>\n",
    "### [2.7 Intersection](https://leetcode.com/problems/intersection-of-two-linked-lists/)"
   ]
  },
  {
   "cell_type": "code",
   "execution_count": null,
   "metadata": {},
   "outputs": [],
   "source": [
    "#O(max(m,n)) - using stacks\n",
    "\n",
    "def intersection(head1,head2):\n",
    "    stack1 = []\n",
    "    node1 = head1\n",
    "    while(node1):\n",
    "        stack.append(node1)\n",
    "        node1 = node1.next\n",
    "    \n",
    "    stack2 = []\n",
    "    node2 = head2\n",
    "    while(node2):\n",
    "        stack2.append(node2)\n",
    "        node2 = node2.next\n",
    "        \n",
    "    ans = None\n",
    "    while(stack1 and stack2):\n",
    "        if stack1[-1] != stack2[-1]:\n",
    "            break\n",
    "        ans = stack1.pop()\n",
    "        stack2.pop()\n",
    "    return ans"
   ]
  },
  {
   "cell_type": "code",
   "execution_count": null,
   "metadata": {},
   "outputs": [],
   "source": [
    "#O(n+m) - using the lengths of the two LL\n",
    "\n",
    "def intersection2(head1,head2):\n",
    "    \n",
    "    def findIntersection(L,S,k):\n",
    "        while(k>0):\n",
    "            k -= 1\n",
    "            L = L.next\n",
    "        while(L!=S):\n",
    "            L = L.next\n",
    "            S = S.next\n",
    "        return S\n",
    "    \n",
    "    l1,l2 = 1,1\n",
    "    node1 = head1\n",
    "    while(node1.next):\n",
    "        l1 += 1\n",
    "        node1 = node1.next\n",
    "    node2 = head2\n",
    "    while(node2.next):\n",
    "        l2 += 1\n",
    "        node2 = node2.next\n",
    "    \n",
    "    if node1 != node2:\n",
    "        return None\n",
    "    \n",
    "    if l1>l2:\n",
    "        return findIntersection(head1,head2,l1-l2)\n",
    "    else:\n",
    "        return findIntersection(head2,head1,l2-l1)"
   ]
  },
  {
   "cell_type": "markdown",
   "metadata": {},
   "source": [
    "<a id='2.8'></a>\n",
    "### [2.8 Loop Detection](https://leetcode.com/problems/linked-list-cycle-ii/)"
   ]
  },
  {
   "cell_type": "code",
   "execution_count": null,
   "metadata": {},
   "outputs": [],
   "source": [
    "#O(n) - using fast and slow pointer\n",
    "\n",
    "def loopDetection(head):\n",
    "    slow = fast = head\n",
    "    while(fast and fast.next):\n",
    "        fast = fast.next.next\n",
    "        slow = slow.next\n",
    "        if fast == slow:\n",
    "            break\n",
    "    else:\n",
    "        return head\n",
    "    slow = head\n",
    "    while(slow!=fast):\n",
    "        fast = fast.next\n",
    "        slow = slow.next\n",
    "    \n",
    "    return slow"
   ]
  }
 ],
 "metadata": {
  "kernelspec": {
   "display_name": "Python 3",
   "language": "python",
   "name": "python3"
  },
  "language_info": {
   "codemirror_mode": {
    "name": "ipython",
    "version": 3
   },
   "file_extension": ".py",
   "mimetype": "text/x-python",
   "name": "python",
   "nbconvert_exporter": "python",
   "pygments_lexer": "ipython3",
   "version": "3.6.9"
  }
 },
 "nbformat": 4,
 "nbformat_minor": 4
}
