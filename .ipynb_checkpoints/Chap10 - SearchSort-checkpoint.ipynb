{
 "cells": [
  {
   "cell_type": "markdown",
   "metadata": {},
   "source": [
    "### [10.1 Sorted Merge](https://leetcode.com/problems/merge-sorted-array/)"
   ]
  },
  {
   "cell_type": "code",
   "execution_count": null,
   "metadata": {},
   "outputs": [],
   "source": [
    "#O(n)\n",
    "\n",
    "def sortedMerge(nums1,nums2,m,n):\n",
    "    i = m+n-1\n",
    "    m = m-1\n",
    "    n = n-1\n",
    "    while(n>=0):\n",
    "        if (m >= 0) and (nums1[m]>nums2[n]):\n",
    "            nums1[i] = nums1[m]\n",
    "            m -= 1\n",
    "        else:\n",
    "            nums1[i] = nums2[n]\n",
    "            n -= 1\n",
    "        i -= 1\n",
    "    return nums1"
   ]
  },
  {
   "cell_type": "code",
   "execution_count": null,
   "metadata": {},
   "outputs": [],
   "source": [
    "sortedMerge([1,2,3,0,0,0],[2,5,6],3,3)"
   ]
  },
  {
   "cell_type": "markdown",
   "metadata": {},
   "source": [
    "### [10.2 Group Anagrams](https://leetcode.com/problems/group-anagrams/)"
   ]
  },
  {
   "cell_type": "code",
   "execution_count": null,
   "metadata": {},
   "outputs": [],
   "source": [
    "#O(nlogn)\n",
    "\n",
    "def groupAnagrams(Strs):\n",
    "    temp = {}\n",
    "    for S in Strs:\n",
    "        s = sorted(S)\n",
    "        s = ''.join(s)\n",
    "        temp[s] = temp.get(s,[]) + [S]\n",
    "    ans = []\n",
    "    for t in temp:\n",
    "        ans.append(temp[t])\n",
    "    return ans"
   ]
  },
  {
   "cell_type": "code",
   "execution_count": null,
   "metadata": {},
   "outputs": [],
   "source": [
    "groupAnagrams([\"asd\",\"dsa\"])"
   ]
  },
  {
   "cell_type": "markdown",
   "metadata": {},
   "source": [
    "### [10.3 Search in Rotated Array](https://leetcode.com/problems/search-in-rotated-sorted-array/)"
   ]
  },
  {
   "cell_type": "code",
   "execution_count": null,
   "metadata": {},
   "outputs": [],
   "source": []
  },
  {
   "cell_type": "code",
   "execution_count": null,
   "metadata": {},
   "outputs": [],
   "source": []
  }
 ],
 "metadata": {
  "kernelspec": {
   "display_name": "Python 3",
   "language": "python",
   "name": "python3"
  },
  "language_info": {
   "codemirror_mode": {
    "name": "ipython",
    "version": 3
   },
   "file_extension": ".py",
   "mimetype": "text/x-python",
   "name": "python",
   "nbconvert_exporter": "python",
   "pygments_lexer": "ipython3",
   "version": "3.6.9"
  }
 },
 "nbformat": 4,
 "nbformat_minor": 4
}
