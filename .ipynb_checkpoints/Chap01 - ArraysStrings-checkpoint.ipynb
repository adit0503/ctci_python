{
 "cells": [
  {
   "cell_type": "markdown",
   "metadata": {},
   "source": [
    "# 1. Arrays and Strings\n",
    "\n",
    "1. [Is Unique](#1.1)\n",
    "2. [Check Permuattion](#1.2)\n",
    "3. [URLify](#1.3)\n",
    "4. [Palindrome Permutation](#1.4)\n",
    "5. [One Away](#1.5)\n",
    "6. [String Compression](#1.6)\n",
    "7. [Rotate Matrix](#1.7)\n",
    "8. [Zero Matrix](#1.8)\n",
    "9. [String Rotation](#1.9)"
   ]
  },
  {
   "cell_type": "markdown",
   "metadata": {},
   "source": [
    "<a id='1.1'></a>\n",
    "### 1.1 isUnique"
   ]
  },
  {
   "cell_type": "code",
   "execution_count": null,
   "metadata": {},
   "outputs": [],
   "source": [
    "#O(n) - using set\n",
    "\n",
    "def isUnique(S):\n",
    "    temp = set()\n",
    "    for s in S:\n",
    "        if s in temp:\n",
    "            return False\n",
    "        temp.add(s)\n",
    "    return True"
   ]
  },
  {
   "cell_type": "code",
   "execution_count": null,
   "metadata": {},
   "outputs": [],
   "source": [
    "isUnique('qwertyw')"
   ]
  },
  {
   "cell_type": "code",
   "execution_count": null,
   "metadata": {},
   "outputs": [],
   "source": [
    "#O(n) - using a boolean array\n",
    "\n",
    "def isUnique2(S):\n",
    "    S = S.lower()\n",
    "    \n",
    "    temp = [False for _ in range(26)]\n",
    "    for s in S:\n",
    "        index = ord(s)-ord('a')\n",
    "        if not temp[index]:\n",
    "            return False\n",
    "        temp[index] = True\n",
    "    return True"
   ]
  },
  {
   "cell_type": "code",
   "execution_count": null,
   "metadata": {},
   "outputs": [],
   "source": [
    "isUnique2('QwErTyY')"
   ]
  },
  {
   "cell_type": "code",
   "execution_count": null,
   "metadata": {},
   "outputs": [],
   "source": [
    "#O(n) - using bit manipulation without any additional data structure\n",
    "\n",
    "def isUnique3(S):\n",
    "    S = S.lower()\n",
    "    \n",
    "    temp = 0\n",
    "    for s in S:\n",
    "        index = ord(s)-ord('a')\n",
    "        if (temp & (1<<index)) > 0:\n",
    "            return False\n",
    "        temp |= (1<<index)\n",
    "    return True"
   ]
  },
  {
   "cell_type": "code",
   "execution_count": null,
   "metadata": {},
   "outputs": [],
   "source": [
    "isUnique3('QwErTyY')"
   ]
  },
  {
   "cell_type": "markdown",
   "metadata": {},
   "source": [
    "<a id='1.2'></a>\n",
    "### [1.2 Check Permutation](https://leetcode.com/problems/valid-anagram/) - Valid Anagram"
   ]
  },
  {
   "cell_type": "code",
   "execution_count": null,
   "metadata": {},
   "outputs": [],
   "source": [
    "#O(max(n,m)) - using a dict to store count of characters\n",
    "\n",
    "def checkPermutation(s1,s2):\n",
    "    if len(s1) != len(s2):\n",
    "        return False\n",
    "    \n",
    "    temp = {}\n",
    "    for s in s1:\n",
    "        temp[s] = temp.get(s,0) + 1\n",
    "        \n",
    "    for s in s2:\n",
    "        if temp.get(s,-1) <= 0:\n",
    "            return False\n",
    "        temp[s] -= 1\n",
    "    \n",
    "    return True"
   ]
  },
  {
   "cell_type": "code",
   "execution_count": null,
   "metadata": {},
   "outputs": [],
   "source": [
    "checkPermutation('qrrrty','trrryq')"
   ]
  },
  {
   "cell_type": "code",
   "execution_count": null,
   "metadata": {},
   "outputs": [],
   "source": [
    "#O(nlogn) - compare the sorted strings\n",
    "\n",
    "def checkPermutation2(s1,s2):\n",
    "    return sorted(s1) == sorted(s2)"
   ]
  },
  {
   "cell_type": "code",
   "execution_count": null,
   "metadata": {},
   "outputs": [],
   "source": [
    "checkPermutation2('asdfghjkl','lkjhgfdsa')"
   ]
  },
  {
   "cell_type": "markdown",
   "metadata": {},
   "source": [
    "<a id='1.3'></a>\n",
    "### 1.3 URLify"
   ]
  },
  {
   "cell_type": "code",
   "execution_count": null,
   "metadata": {},
   "outputs": [],
   "source": [
    "#O(n) - using simple backward substitution\n",
    "\n",
    "def urlify(S,l):\n",
    "    S = list(S)\n",
    "    i = l-1\n",
    "    j = len(S)-1\n",
    "    while(i>=0):\n",
    "        if S[i] == ' ':\n",
    "            S[j] = '0'\n",
    "            j -= 1\n",
    "            S[j] = '2'\n",
    "            j -= 1\n",
    "            S[j] = '%'\n",
    "        else:\n",
    "            S[j] = S[i]\n",
    "        i -= 1\n",
    "        j -= 1\n",
    "\n",
    "    return ''.join(S)"
   ]
  },
  {
   "cell_type": "code",
   "execution_count": null,
   "metadata": {},
   "outputs": [],
   "source": [
    "urlify('mr john smith    ',13)"
   ]
  },
  {
   "cell_type": "markdown",
   "metadata": {},
   "source": [
    "<a id='1.4'></a>\n",
    "### 1.4 Palindrome Permutation"
   ]
  },
  {
   "cell_type": "code",
   "execution_count": null,
   "metadata": {},
   "outputs": [],
   "source": [
    "#O(n) - using a dict for count of characters\n",
    "\n",
    "def palindromePermutation(S):\n",
    "    S = S.lower().split()\n",
    "    S = ''.join(S)\n",
    "    \n",
    "    temp = {}\n",
    "    for s in S:\n",
    "        temp[s] = temp.get(s,0) + 1\n",
    "        \n",
    "    oddCount = 0\n",
    "    for t in temp.values():\n",
    "        if t%2 != 0:\n",
    "            oddCount += 1\n",
    "    \n",
    "    return True if odd_count <= 1 else False"
   ]
  },
  {
   "cell_type": "code",
   "execution_count": null,
   "metadata": {},
   "outputs": [],
   "source": [
    "palindromePermutation('taco cat')"
   ]
  },
  {
   "cell_type": "code",
   "execution_count": null,
   "metadata": {},
   "outputs": [],
   "source": [
    "#O(n) - using a boolean array of a-z characters\n",
    "\n",
    "def palindromePermutation2(S):\n",
    "    S = S.lower().split()\n",
    "    S = ''.join(S)\n",
    "    \n",
    "    temp = [False for _ in range(26)]\n",
    "    for s in S:\n",
    "        index = ord(s)-ord('a')\n",
    "        temp[index] = not temp[index]\n",
    "        \n",
    "    return True if temp.count(True) <= 1 else False"
   ]
  },
  {
   "cell_type": "code",
   "execution_count": null,
   "metadata": {},
   "outputs": [],
   "source": [
    "palindromePermutation2('TaCo CtAa')"
   ]
  },
  {
   "cell_type": "code",
   "execution_count": null,
   "metadata": {},
   "outputs": [],
   "source": [
    "#O(n) - using dict and oddCount in single pass\n",
    "\n",
    "def palindromePermutation3(S):\n",
    "    S = S.lower().split()\n",
    "    S = ''.join(S)\n",
    "    \n",
    "    temp = {}\n",
    "    oddCount = 0\n",
    "    for s in S:\n",
    "        temp[s] = temp.get(s,0) + 1\n",
    "        if temp[s]%2 == 1:\n",
    "            oddCount += 1\n",
    "        else:\n",
    "            oddCount -= 1\n",
    "    \n",
    "    return oddCount <= 1"
   ]
  },
  {
   "cell_type": "code",
   "execution_count": null,
   "metadata": {},
   "outputs": [],
   "source": [
    "palindromePermutation3('TaCo CtA')"
   ]
  },
  {
   "cell_type": "code",
   "execution_count": null,
   "metadata": {},
   "outputs": [],
   "source": [
    "#O(n) - using bit manipulation \n",
    "\n",
    "def palindromePermutation4(S):\n",
    "    S = S.lower().split()\n",
    "    S = ''.join(S)\n",
    "    \n",
    "    mainBit = 0\n",
    "    for s in S:\n",
    "        index = ord(s)-ord('a')\n",
    "        \n",
    "        setBit = 1 << index\n",
    "        mainBit = mainBit ^ setBit\n",
    "    \n",
    "    oneLessBit = mainBit - 1\n",
    "    mainBit = mainBit & oneLessBit\n",
    "\n",
    "    return not bool(mainBit)"
   ]
  },
  {
   "cell_type": "code",
   "execution_count": null,
   "metadata": {},
   "outputs": [],
   "source": [
    "palindromePermutation4('madam')"
   ]
  },
  {
   "cell_type": "markdown",
   "metadata": {},
   "source": [
    "<a id='1.5'></a>\n",
    "### 1.5 One Away"
   ]
  },
  {
   "cell_type": "code",
   "execution_count": null,
   "metadata": {},
   "outputs": [],
   "source": [
    "#O(n) - using two separate methods\n",
    "\n",
    "def oneAway(S,T):\n",
    "    if abs(len(S)-len(T)) > 1:\n",
    "        return False\n",
    "    \n",
    "    def insertremove(s1,s2):\n",
    "        i,j = 0,0\n",
    "        while(i<len(s1) and j<len(s2)):\n",
    "            if s1[i] == s2[j]:\n",
    "                j += 1\n",
    "            i += 1\n",
    "        return j == len(s2)\n",
    "    \n",
    "    def replace(s1,s2):\n",
    "        count = 0\n",
    "        for i in range(len(s1)):\n",
    "            if s1[i] != s2[i]:\n",
    "                count += 1      \n",
    "        return count == 1\n",
    "            \n",
    "    if len(S) == len(T):\n",
    "        return replace(S,T)\n",
    "    \n",
    "    if len(S) == len(T) + 1:\n",
    "        return insertremove(S,T)\n",
    "    \n",
    "    if len(S) == len(T) - 1:\n",
    "        return insertremove(T,S)"
   ]
  },
  {
   "cell_type": "code",
   "execution_count": null,
   "metadata": {},
   "outputs": [],
   "source": [
    "oneAway('pale','bae')"
   ]
  },
  {
   "cell_type": "code",
   "execution_count": null,
   "metadata": {},
   "outputs": [],
   "source": [
    "#O(n) - using one single method\n",
    "\n",
    "def oneAway2(S,T):\n",
    "    if abs(len(S)-len(T)) > 1:\n",
    "        return False\n",
    "    \n",
    "    def insertremovereplace(s1,s2):\n",
    "        i,j = 0,0\n",
    "        count = False\n",
    "        while(i<len(s1) and j<len(s2)):\n",
    "            if s1[i] != s2[j]:\n",
    "                if count:\n",
    "                    return False\n",
    "                count = True\n",
    "                if len(s1) == len(s2):\n",
    "                    j += 1\n",
    "            else:\n",
    "                j += 1\n",
    "            i += 1\n",
    "        return True\n",
    "    \n",
    "    if len(S) == len(T) + 1:\n",
    "        return insertremovereplace(S,T)\n",
    "    else:\n",
    "        return insertremovereplace(T,S)"
   ]
  },
  {
   "cell_type": "code",
   "execution_count": null,
   "metadata": {},
   "outputs": [],
   "source": [
    "oneAway2('pale','bae')"
   ]
  },
  {
   "cell_type": "markdown",
   "metadata": {},
   "source": [
    "<a id='1.6'></a>\n",
    "### [1.6 String Compression](https://leetcode.com/problems/string-compression/)"
   ]
  },
  {
   "cell_type": "code",
   "execution_count": null,
   "metadata": {},
   "outputs": [],
   "source": [
    "#O(n) - using in-place substitution\n",
    "\n",
    "def stringCompression(S):\n",
    "    i,j = 0,0\n",
    "    T = ''\n",
    "    while(i<len(S)):\n",
    "        T += S[i]\n",
    "        while(j<len(S) and S[j] == S[i]):\n",
    "            j += 1\n",
    "        d = j-i\n",
    "        \n",
    "        if d != 1:\n",
    "            T += str(d)\n",
    "        i = j\n",
    "        \n",
    "    return T"
   ]
  },
  {
   "cell_type": "code",
   "execution_count": null,
   "metadata": {},
   "outputs": [],
   "source": [
    "stringCompression('aabbbbbbbbbbbbbbbbbbbbbbbbbcc')"
   ]
  },
  {
   "cell_type": "code",
   "execution_count": null,
   "metadata": {},
   "outputs": [],
   "source": [
    "#O(n) - similar leetcode problem\n",
    "\n",
    "def stringCompression2(S):\n",
    "    i,j,k = 0,0,0\n",
    "    while(i<len(S) and j<len(S)):\n",
    "        S[k] = S[i]\n",
    "        while(j < len(S) and S[j] == S[i]):\n",
    "            j += 1\n",
    "        d = j-i\n",
    "        \n",
    "        k += 1\n",
    "        if d != 1:\n",
    "            D = str(d)\n",
    "            for d in D:\n",
    "                S[k] = d\n",
    "                k += 1\n",
    "        i = j\n",
    "    return S,k"
   ]
  },
  {
   "cell_type": "code",
   "execution_count": null,
   "metadata": {},
   "outputs": [],
   "source": [
    "stringCompression2([\"a\",\"b\",\"b\",\"b\",\"b\",\"b\",\"b\",\"b\",\"b\",\"b\",\"b\",\"b\",\"b\"])"
   ]
  },
  {
   "cell_type": "code",
   "execution_count": null,
   "metadata": {},
   "outputs": [],
   "source": [
    "def printMatrix(M):\n",
    "    for m in M:\n",
    "        print(m)"
   ]
  },
  {
   "cell_type": "markdown",
   "metadata": {},
   "source": [
    "<a id='1.7'></a>\n",
    "### [1.7 Rotate Matrix](https://leetcode.com/problems/rotate-image/)"
   ]
  },
  {
   "cell_type": "code",
   "execution_count": null,
   "metadata": {},
   "outputs": [],
   "source": [
    "#O(n2) - inplace, swap & reverse\n",
    "\n",
    "def rotateMatrix(matrix):\n",
    "    n = len(matrix)\n",
    "    \n",
    "    for i in range(n):\n",
    "        for j in range(i,n):\n",
    "            matrix[i][j], matrix[j][i] = matrix[j][i],  matrix[i][j]\n",
    "            \n",
    "    for m in matrix:\n",
    "        m.reverse()\n",
    "        \n",
    "    return matrix"
   ]
  },
  {
   "cell_type": "code",
   "execution_count": null,
   "metadata": {},
   "outputs": [],
   "source": [
    "rotateMatrix([[1,2,3],[4,5,6],[7,8,9]])"
   ]
  },
  {
   "cell_type": "markdown",
   "metadata": {},
   "source": [
    "<a id='1.8'></a>\n",
    "### [1.8 Zero Matrix](https://leetcode.com/problems/set-matrix-zeroes/)"
   ]
  },
  {
   "cell_type": "code",
   "execution_count": null,
   "metadata": {},
   "outputs": [],
   "source": [
    "#O(nm) - keep track of row/column containing 0\n",
    "\n",
    "def zeroMatrix(matrix):\n",
    "    r,c = set(),set()\n",
    "    n = len(matrix)\n",
    "    m = len(matrix[0])\n",
    "    \n",
    "    for i in range(n):\n",
    "        for j in range(m):\n",
    "            if matrix[i][j] == 0:\n",
    "                r.add(i)\n",
    "                c.add(j)\n",
    "    \n",
    "    for i in r:\n",
    "        for j in range(m):\n",
    "            matrix[i][j] = 0\n",
    "    for j in c:\n",
    "        for i in range(n):\n",
    "            matrix[i][j] = 0\n",
    "    printMatrix(matrix)\n",
    "    return matrix"
   ]
  },
  {
   "cell_type": "code",
   "execution_count": null,
   "metadata": {},
   "outputs": [],
   "source": [
    "zeroMatrix([[0,1,2,0],[3,4,5,2],[1,3,1,5]])"
   ]
  },
  {
   "cell_type": "code",
   "execution_count": null,
   "metadata": {},
   "outputs": [],
   "source": [
    "#O(nm) - same time complexity but with constant space\n",
    "\n",
    "def zeroMatrix2(matrix):\n",
    "    n = len(matrix)\n",
    "    m = len(matrix[0])\n",
    "    \n",
    "    firstRow = False\n",
    "    firstCol = False\n",
    "    for i in range(n):\n",
    "        for j in range(m):\n",
    "            if matrix[i][0] == 0:\n",
    "                firstCol = True\n",
    "            if matrix[0][j] == 0:\n",
    "                firstRow = True\n",
    "    \n",
    "    for i in range(n):\n",
    "        for j in range(m):\n",
    "            if matrix[i][j] == 0:\n",
    "                matrix[i][0] = 0\n",
    "                matrix[0][j] = 0\n",
    "\n",
    "    for i in range(1,n):\n",
    "        for j in range(1,m):\n",
    "            if matrix[i][0] == 0 or matrix[0][j] == 0:\n",
    "                matrix[i][j] = 0\n",
    "                \n",
    "    if firstRow:\n",
    "        for j in range(m):\n",
    "            matrix[0][j] = 0\n",
    "    if firstCol:\n",
    "        for i in range(n):\n",
    "            matrix[i][0] = 0\n",
    "            \n",
    "    return matrix"
   ]
  },
  {
   "cell_type": "code",
   "execution_count": null,
   "metadata": {},
   "outputs": [],
   "source": [
    "zeroMatrix2([[0,1,2,0],[3,4,5,2],[1,3,1,5]])"
   ]
  },
  {
   "cell_type": "markdown",
   "metadata": {},
   "source": [
    "<a id='1.9'></a>\n",
    "### [1.9 String Rotation](https://leetcode.com/problems/rotate-string/)"
   ]
  },
  {
   "cell_type": "code",
   "execution_count": null,
   "metadata": {},
   "outputs": [],
   "source": [
    "def stringRotation(s1,s2):\n",
    "    if len(s1) != len(s2):\n",
    "        return False\n",
    "    \n",
    "    s1 += s1\n",
    "    return s1.find(s2) >= 0"
   ]
  },
  {
   "cell_type": "code",
   "execution_count": null,
   "metadata": {},
   "outputs": [],
   "source": [
    "stringRotation('aab','aa')"
   ]
  }
 ],
 "metadata": {
  "kernelspec": {
   "display_name": "Python 3",
   "language": "python",
   "name": "python3"
  },
  "language_info": {
   "codemirror_mode": {
    "name": "ipython",
    "version": 3
   },
   "file_extension": ".py",
   "mimetype": "text/x-python",
   "name": "python",
   "nbconvert_exporter": "python",
   "pygments_lexer": "ipython3",
   "version": "3.6.9"
  }
 },
 "nbformat": 4,
 "nbformat_minor": 4
}
