{
 "cells": [
  {
   "cell_type": "markdown",
   "metadata": {},
   "source": [
    "# [Sorting](https://leetcode.com/problems/sort-an-array/)\n",
    "\n",
    "#1. [Bubble Sort](#912a) - O(n2)\n",
    "#2. [Selection Sort](#912b) - O(n2)\n",
    "#3. [Merge Sort](#912c) - O(nlogn)\n",
    "#4. [Quick Sort](#912d) - O(nlogn)\n",
    "#5. [Radix Sort](#912e) - O(n)"
   ]
  },
  {
   "cell_type": "code",
   "execution_count": null,
   "metadata": {},
   "outputs": [],
   "source": [
    "import random\n",
    "def generateArray():\n",
    "    NUMS = []\n",
    "    for _ in range(10):\n",
    "        NUMS.append(random.randint(1,100))\n",
    "    return NUMS"
   ]
  },
  {
   "cell_type": "markdown",
   "metadata": {},
   "source": [
    "<a id='912a'></a>\n",
    "## 1. Bubble Sort"
   ]
  },
  {
   "cell_type": "code",
   "execution_count": null,
   "metadata": {},
   "outputs": [],
   "source": [
    "def bubbleSort(nums):\n",
    "    for t in range(len(nums)-1):\n",
    "        for i in range(len(nums)-1-t):\n",
    "            if nums[i] > nums[i+1]:\n",
    "                nums[i],nums[i+1] = nums[i+1], nums[i]\n",
    "    return nums"
   ]
  },
  {
   "cell_type": "code",
   "execution_count": null,
   "metadata": {},
   "outputs": [],
   "source": [
    "nums = generateArray()\n",
    "print(nums)\n",
    "print(bubbleSort(nums))"
   ]
  },
  {
   "cell_type": "markdown",
   "metadata": {},
   "source": [
    "<a id='912b'></a>\n",
    "## 2. Selection Sort"
   ]
  },
  {
   "cell_type": "code",
   "execution_count": null,
   "metadata": {},
   "outputs": [],
   "source": [
    "def selectionSort(nums):\n",
    "    for i in range(len(nums)):\n",
    "        small = i\n",
    "        for j in range(i+1,len(nums)):\n",
    "            if nums[j] < nums[small]:\n",
    "                small = j\n",
    "        nums[i],nums[small] = nums[small],nums[i]\n",
    "    return nums"
   ]
  },
  {
   "cell_type": "code",
   "execution_count": null,
   "metadata": {},
   "outputs": [],
   "source": [
    "nums = generateArray()\n",
    "print(nums)\n",
    "print(selectionSort(nums))"
   ]
  },
  {
   "cell_type": "markdown",
   "metadata": {},
   "source": [
    "<a id='912c'></a>\n",
    "## 3. Merge Sort"
   ]
  },
  {
   "cell_type": "code",
   "execution_count": null,
   "metadata": {},
   "outputs": [],
   "source": [
    "def mergeSort(nums):\n",
    "    if len(nums) > 1: \n",
    "        mid = len(nums)//2\n",
    "        L = nums[:mid] \n",
    "        R = nums[mid:] \n",
    "\n",
    "        mergeSort(L)\n",
    "        mergeSort(R)\n",
    "\n",
    "        i = j = k = 0\n",
    "\n",
    "        while i < len(L) and j < len(R): \n",
    "            if L[i] < R[j]: \n",
    "                nums[k] = L[i] \n",
    "                i+=1\n",
    "            else: \n",
    "                nums[k] = R[j] \n",
    "                j+=1\n",
    "            k+=1\n",
    "\n",
    "        while i < len(L): \n",
    "            nums[k] = L[i] \n",
    "            i+=1\n",
    "            k+=1\n",
    "\n",
    "        while j < len(R): \n",
    "            nums[k] = R[j] \n",
    "            j+=1\n",
    "            k+=1\n",
    "    return nums"
   ]
  },
  {
   "cell_type": "code",
   "execution_count": null,
   "metadata": {},
   "outputs": [],
   "source": [
    "nums = generateArray()\n",
    "print(nums)\n",
    "print(mergeSort(nums))"
   ]
  },
  {
   "cell_type": "markdown",
   "metadata": {},
   "source": [
    "<a id='912d'></a>\n",
    "## 5. Quick Sort\n"
   ]
  },
  {
   "cell_type": "code",
   "execution_count": null,
   "metadata": {},
   "outputs": [],
   "source": [
    "def partition(arr,l,r):\n",
    "    pivot = arr[(l+r)//2]\n",
    "    \n",
    "    while(l <= r):\n",
    "        while(arr[l] < pivot):\n",
    "            l += 1\n",
    "        \n",
    "        while(arr[r] > pivot):\n",
    "            r -= 1\n",
    "            \n",
    "        if(l <= r):\n",
    "            arr[l],arr[r] = arr[r],arr[l]\n",
    "            l += 1\n",
    "            r -= 1\n",
    "    return l\n",
    "\n",
    "def quick(nums,l,r):\n",
    "    index = partition(nums,l,r)\n",
    "    if(l < index-1):\n",
    "        quick(nums,l,index-1)\n",
    "    if(index < r):\n",
    "        quick(nums,index,r)\n",
    "    return nums\n",
    "\n",
    "def quickSort(nums):\n",
    "    return quick(nums,0,len(nums)-1)"
   ]
  },
  {
   "cell_type": "code",
   "execution_count": null,
   "metadata": {},
   "outputs": [],
   "source": [
    "nums = generateArray()\n",
    "print(nums)\n",
    "print(quickSort(nums))"
   ]
  },
  {
   "cell_type": "markdown",
   "metadata": {},
   "source": [
    "<a id='912e'></a>\n",
    "## 5. Radix Sort"
   ]
  },
  {
   "cell_type": "code",
   "execution_count": null,
   "metadata": {},
   "outputs": [],
   "source": [
    "def bucketsAnalysis(nums,digit):\n",
    "    l = len(nums)\n",
    "    buckets = [0 for _ in range(10)]\n",
    "    \n",
    "    for n in nums:\n",
    "        d = n//digit\n",
    "        buckets[d%10] += 1\n",
    "\n",
    "    for i in range(1,10):\n",
    "        buckets[i] += buckets[i-1]\n",
    "    \n",
    "    arr = [0 for _ in range(l)]\n",
    "    for n in nums[::-1]:\n",
    "        d = n//digit\n",
    "        buckets[d%10] -= 1\n",
    "        arr[buckets[d%10]] = n\n",
    "        \n",
    "    nums[:] = arr[:]\n",
    "    \n",
    "def radixSort(nums):\n",
    "    digit = 1\n",
    "    max_d = max(nums)\n",
    "    while(max_d//digit > 0):\n",
    "        bucketsAnalysis(nums,digit)\n",
    "        digit *= 10\n",
    "    return nums"
   ]
  },
  {
   "cell_type": "code",
   "execution_count": null,
   "metadata": {},
   "outputs": [],
   "source": [
    "nums = generateArray()\n",
    "print(nums)\n",
    "print(radixSort(nums))"
   ]
  },
  {
   "cell_type": "markdown",
   "metadata": {},
   "source": [
    "# [Searching](https://leetcode.com/problems/binary-search/)\n",
    "#1. [Linear Search](#704a) - O(n)\n",
    "#2. [Binary Search](#704b) - O(logn)"
   ]
  },
  {
   "cell_type": "markdown",
   "metadata": {},
   "source": [
    "<a id='704a'></a>\n",
    "## Linear Search"
   ]
  },
  {
   "cell_type": "code",
   "execution_count": null,
   "metadata": {},
   "outputs": [],
   "source": [
    "def linearSearch(nums,x):\n",
    "    for i,n in enumerate(nums):\n",
    "        if n == x:\n",
    "            return i\n",
    "    return -1"
   ]
  },
  {
   "cell_type": "code",
   "execution_count": null,
   "metadata": {},
   "outputs": [],
   "source": [
    "linearSearch([3,6,5,4,8,9,7,2,1,0],7)"
   ]
  },
  {
   "cell_type": "markdown",
   "metadata": {},
   "source": [
    "<a id='704b'></a>\n",
    "## Binary Search"
   ]
  },
  {
   "cell_type": "code",
   "execution_count": null,
   "metadata": {},
   "outputs": [],
   "source": [
    "#O(logn) - iterative\n",
    "\n",
    "def binarySearch(nums,x):\n",
    "    l = 0\n",
    "    r = len(nums)-1\n",
    "    while(l<=r):\n",
    "        m = (l+r)//2\n",
    "        if nums[m]<x:\n",
    "            l = m+1\n",
    "        elif nums[m]>x:\n",
    "            r = m-1\n",
    "        else:\n",
    "            return m\n",
    "    return -1"
   ]
  },
  {
   "cell_type": "code",
   "execution_count": null,
   "metadata": {},
   "outputs": [],
   "source": [
    "nums = [1,2,3,4,5,6,7,8,9]\n",
    "binarySearch(nums,7)"
   ]
  },
  {
   "cell_type": "code",
   "execution_count": null,
   "metadata": {},
   "outputs": [],
   "source": [
    "#O(logn) - recursive\n",
    "\n",
    "def recursiveSearch(nums,l,r,x):\n",
    "    m = (l+r)//2\n",
    "    if l>r:\n",
    "        return -1\n",
    "    if nums[m] == x:\n",
    "        return m\n",
    "    elif nums[m]<x:\n",
    "        return recursiveSearch(nums,m+1,r,x)\n",
    "    else:\n",
    "        return recursiveSearch(nums,l,m-1,x)\n",
    "\n",
    "def binarySearch2(nums,x):\n",
    "    return recursiveSearch(nums,0,len(nums)-1,x)"
   ]
  },
  {
   "cell_type": "code",
   "execution_count": null,
   "metadata": {},
   "outputs": [],
   "source": [
    "nums = [1,2,3,4,5,6,7,8,9]\n",
    "binarySearch2(nums,3)"
   ]
  }
 ],
 "metadata": {
  "kernelspec": {
   "display_name": "Python 3",
   "language": "python",
   "name": "python3"
  },
  "language_info": {
   "codemirror_mode": {
    "name": "ipython",
    "version": 3
   },
   "file_extension": ".py",
   "mimetype": "text/x-python",
   "name": "python",
   "nbconvert_exporter": "python",
   "pygments_lexer": "ipython3",
   "version": "3.6.9"
  }
 },
 "nbformat": 4,
 "nbformat_minor": 4
}
