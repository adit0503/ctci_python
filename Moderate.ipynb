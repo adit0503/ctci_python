{
 "cells": [
  {
   "cell_type": "markdown",
   "metadata": {},
   "source": [
    "### 16.1 Number Swapper"
   ]
  },
  {
   "cell_type": "code",
   "execution_count": 8,
   "metadata": {},
   "outputs": [],
   "source": [
    "def numberSwapper():\n",
    "    global a\n",
    "    global b\n",
    "    a,b = b,a"
   ]
  },
  {
   "cell_type": "code",
   "execution_count": 10,
   "metadata": {},
   "outputs": [],
   "source": [
    "def numberSwapper2():\n",
    "    global a\n",
    "    global b\n",
    "    b = a-b\n",
    "    a = a-b\n",
    "    b = a+b"
   ]
  },
  {
   "cell_type": "code",
   "execution_count": 20,
   "metadata": {},
   "outputs": [],
   "source": [
    "def numberSwapper3():\n",
    "    global a\n",
    "    global b\n",
    "    a = a^b\n",
    "    b = a^b\n",
    "    a = a^b"
   ]
  },
  {
   "cell_type": "code",
   "execution_count": 23,
   "metadata": {},
   "outputs": [
    {
     "name": "stdout",
     "output_type": "stream",
     "text": [
      "-8 3\n"
     ]
    }
   ],
   "source": [
    "a,b = 3,-8\n",
    "numberSwapper3()\n",
    "print(a,b)"
   ]
  },
  {
   "cell_type": "markdown",
   "metadata": {},
   "source": [
    "### 16.2 Word Frequencies "
   ]
  },
  {
   "cell_type": "code",
   "execution_count": 59,
   "metadata": {},
   "outputs": [],
   "source": [
    "#O(n) - using a count dict\n",
    "\n",
    "def wordFrequencies(book,word):\n",
    "    book = book.strip().split(' ')\n",
    "    temp = {}\n",
    "    for b in book:\n",
    "        b.lower()\n",
    "        if b[-1]=='.':\n",
    "            b = b[:-1]\n",
    "        temp[b] = temp.get(b,0)+1\n",
    "#     print(temp)\n",
    "    return temp.get(word.lower(),-1)"
   ]
  },
  {
   "cell_type": "code",
   "execution_count": 61,
   "metadata": {},
   "outputs": [
    {
     "data": {
      "text/plain": [
       "5"
      ]
     },
     "execution_count": 61,
     "metadata": {},
     "output_type": "execute_result"
    }
   ],
   "source": [
    "book = \"Writers write descriptive paragraphs because their purpose is to describe something. Their point is that something is beautiful or disgusting or strangely intriguing. Writers write persuasive and argument paragraphs because their purpose is to persuade or convince someone. Their point is that their reader should see things a particular way and possibly take action on that new way of seeing things. Writers write paragraphs of comparison because the comparison will make their point clear to their readers.\"\n",
    "wordFrequencies(book,'ThEiR')"
   ]
  },
  {
   "cell_type": "markdown",
   "metadata": {},
   "source": [
    "### 16.3 Intersection"
   ]
  },
  {
   "cell_type": "code",
   "execution_count": null,
   "metadata": {},
   "outputs": [],
   "source": [
    "class Point():\n",
    "    def __init__(self, x, y):\n",
    "        self.x = x\n",
    "        self.y = y\n",
    "        \n",
    "def intersection(p1,p2,q1,q2):\n",
    "    m1 = (p2.y-p1.y)/(p2.x-p1.x)\n",
    "    m2 = (q2.y-q1.y)/(q2.x-q1,x)\n",
    "    "
   ]
  },
  {
   "cell_type": "code",
   "execution_count": null,
   "metadata": {},
   "outputs": [],
   "source": []
  }
 ],
 "metadata": {
  "kernelspec": {
   "display_name": "Python 3",
   "language": "python",
   "name": "python3"
  },
  "language_info": {
   "codemirror_mode": {
    "name": "ipython",
    "version": 3
   },
   "file_extension": ".py",
   "mimetype": "text/x-python",
   "name": "python",
   "nbconvert_exporter": "python",
   "pygments_lexer": "ipython3",
   "version": "3.6.9"
  }
 },
 "nbformat": 4,
 "nbformat_minor": 4
}
