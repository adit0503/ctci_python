{
 "cells": [
  {
   "cell_type": "markdown",
   "metadata": {},
   "source": [
    "# 10. Sorting and Searching\n",
    "1. [Sorted Merge](#10.1)\n",
    "2. [Group Anagrams](#10.2)\n",
    "3. [Search in Rotated Array](#10.3)\n",
    "4. [Sorted Search, No Size](#10.4)\n",
    "5. [Sparse Search](#10.5)\n",
    "6. [Sort Big File](#10.6)\n",
    "7. [Missing Int](#10.7)\n",
    "8. [Find Duplicates](#10.8)\n",
    "9. [Sorted Matrix Search](#10.9)\n",
    "10. [Rank From Stream](#10.10)\n",
    "11. [Peaks and Valleys](#10.11)"
   ]
  },
  {
   "cell_type": "markdown",
   "metadata": {},
   "source": [
    "<a id='10.1'></a>\n",
    "### [10.1 Sorted Merge](https://leetcode.com/problems/merge-sorted-array/)"
   ]
  },
  {
   "cell_type": "code",
   "execution_count": null,
   "metadata": {},
   "outputs": [],
   "source": [
    "#O(n)\n",
    "\n",
    "def sortedMerge(nums1,nums2,m,n):\n",
    "    i = m+n-1\n",
    "    m = m-1\n",
    "    n = n-1\n",
    "    while(n>=0):\n",
    "        if (m >= 0) and (nums1[m]>nums2[n]):\n",
    "            nums1[i] = nums1[m]\n",
    "            m -= 1\n",
    "        else:\n",
    "            nums1[i] = nums2[n]\n",
    "            n -= 1\n",
    "        i -= 1\n",
    "    return nums1"
   ]
  },
  {
   "cell_type": "code",
   "execution_count": null,
   "metadata": {},
   "outputs": [],
   "source": [
    "sortedMerge([1,2,3,0,0,0],[2,5,6],3,3)"
   ]
  },
  {
   "cell_type": "markdown",
   "metadata": {},
   "source": [
    "<a id='10.2'></a>\n",
    "### [10.2 Group Anagrams](https://leetcode.com/problems/group-anagrams/)"
   ]
  },
  {
   "cell_type": "code",
   "execution_count": null,
   "metadata": {},
   "outputs": [],
   "source": [
    "#O(nlogn)\n",
    "\n",
    "def groupAnagrams(Strs):\n",
    "    temp = {}\n",
    "    for S in Strs:\n",
    "        s = sorted(S)\n",
    "        s = ''.join(s)\n",
    "        temp[s] = temp.get(s,[]) + [S]\n",
    "    ans = []\n",
    "    for t in temp:\n",
    "        ans.append(temp[t])\n",
    "    return ans"
   ]
  },
  {
   "cell_type": "code",
   "execution_count": null,
   "metadata": {},
   "outputs": [],
   "source": [
    "groupAnagrams([\"asd\",\"dsa\"])"
   ]
  },
  {
   "cell_type": "markdown",
   "metadata": {},
   "source": [
    "<a id='10.3'></a>\n",
    "### [10.3 Search in Rotated Array](https://leetcode.com/problems/search-in-rotated-sorted-array/)"
   ]
  },
  {
   "cell_type": "code",
   "execution_count": null,
   "metadata": {},
   "outputs": [],
   "source": [
    "#O(n) - using linear search\n",
    "\n",
    "def searchRotated(nums,k):\n",
    "    for i,n in enumerate(nums):\n",
    "        if n == k:\n",
    "            return i\n",
    "    return -1"
   ]
  },
  {
   "cell_type": "code",
   "execution_count": null,
   "metadata": {},
   "outputs": [],
   "source": [
    "searchRotated([15,16,19,20,25,1,3,4,5,7,10,14],5)"
   ]
  },
  {
   "cell_type": "code",
   "execution_count": null,
   "metadata": {},
   "outputs": [],
   "source": [
    "def binarySearch(nums,x):\n",
    "    l = 0\n",
    "    r = len(nums)-1\n",
    "    while(l<=r):\n",
    "        m = (l+r)//2\n",
    "        if nums[m] == x:\n",
    "            return (True,m)\n",
    "        elif nums[m]>x:\n",
    "            r = m-1\n",
    "        else:\n",
    "            l = m+1\n",
    "    return (False,-1)\n",
    "\n",
    "def searchRotated2(nums,k):\n",
    "    l = 0\n",
    "    r = len(nums)-1\n",
    "    while(l<r):\n",
    "        m = (l+r)//2\n",
    "        if nums[m]>nums[r]:\n",
    "            l = m+1\n",
    "        else:\n",
    "            r=m\n",
    "    \n",
    "    A1,res1  = binarySearch(nums[l:],k)\n",
    "    A2,res2 = binarySearch(nums[:l],k)\n",
    "    \n",
    "    return res1+l if A1 else res2"
   ]
  },
  {
   "cell_type": "code",
   "execution_count": null,
   "metadata": {},
   "outputs": [],
   "source": [
    "searchRotated2([1],0)"
   ]
  },
  {
   "cell_type": "markdown",
   "metadata": {},
   "source": [
    "<a id='10.4'></a>\n",
    "### 10.4 Sorted Search, No Size"
   ]
  },
  {
   "cell_type": "code",
   "execution_count": 1,
   "metadata": {},
   "outputs": [],
   "source": [
    "class Listy:\n",
    "    def __init__(self):\n",
    "        self.arrayList = []\n",
    "    \n",
    "    def add(self, x):\n",
    "        self.arrayList.append(x)\n",
    "        \n",
    "    def elementAt(self,i):\n",
    "        if i>len(self.arrayList)-1:\n",
    "            return -1\n",
    "        return self.arrayList[i]\n",
    "\n",
    "def binSearching(L,x,l,r):\n",
    "    while(l<=r):\n",
    "        m = (l+r)//2\n",
    "        mElement = L.elementAt(m)\n",
    "        if (mElement > x) or (mElement == -1):\n",
    "            r = m-1\n",
    "        elif mElement < x:\n",
    "            l = m+1\n",
    "        else:\n",
    "            return m\n",
    "    return -1\n",
    "    \n",
    "def sortedSearch(L,val):\n",
    "    i = 1\n",
    "    while((L.elementAt(i) != -1) and L.elementAt(i)<val):\n",
    "        i *= 2\n",
    "    return binSearching(L,val,i//2,i)"
   ]
  },
  {
   "cell_type": "code",
   "execution_count": 3,
   "metadata": {},
   "outputs": [
    {
     "data": {
      "text/plain": [
       "9"
      ]
     },
     "execution_count": 3,
     "metadata": {},
     "output_type": "execute_result"
    }
   ],
   "source": [
    "L=Listy()\n",
    "for i in range(0,22,2):\n",
    "    L.add(i)\n",
    "sortedSearch(L,18)"
   ]
  },
  {
   "cell_type": "markdown",
   "metadata": {},
   "source": [
    "<a id='10.5'></a>\n",
    "### 10.5 Sparse Search"
   ]
  },
  {
   "cell_type": "code",
   "execution_count": 19,
   "metadata": {},
   "outputs": [],
   "source": [
    "#O(logn) - best case\n",
    "#O(n) - worst case\n",
    "\n",
    "def sparseSearch(arr,word):\n",
    "    n = len(arr)\n",
    "    l=0\n",
    "    while(arr[l]==''):\n",
    "        l+=1\n",
    "    r=len(arr)-1\n",
    "    while(arr[r]==''):\n",
    "        r-=1\n",
    "        \n",
    "    while(l<=r):\n",
    "        m = (l+r)//2\n",
    "        \n",
    "        if arr[m] == word:\n",
    "            return m\n",
    "        \n",
    "        elif arr[m] == '':\n",
    "            p,q = m,m\n",
    "            while(p<n and arr[p]==''):\n",
    "                p += 1\n",
    "            while(q>-1 and arr[q]==''):\n",
    "                q -= 1\n",
    "            \n",
    "            if arr[p][0] > word[0]:\n",
    "                r = q\n",
    "            else:\n",
    "                l = p\n",
    "                \n",
    "        elif arr[m][0]>word[0]:\n",
    "            r = m-1\n",
    "            \n",
    "        else:\n",
    "            l = m+1\n",
    "    return -1"
   ]
  },
  {
   "cell_type": "code",
   "execution_count": 26,
   "metadata": {},
   "outputs": [
    {
     "data": {
      "text/plain": [
       "5"
      ]
     },
     "execution_count": 26,
     "metadata": {},
     "output_type": "execute_result"
    }
   ],
   "source": [
    "sparseSearch(['at','','','','ball','','','car','','','dad','',''],'')"
   ]
  },
  {
   "cell_type": "code",
   "execution_count": 35,
   "metadata": {},
   "outputs": [],
   "source": [
    "#O(n) - recursive\n",
    "\n",
    "def sparseSearch2(arr,X):\n",
    "    l = 0\n",
    "    r = len(arr)-1\n",
    "    while(l<=r):\n",
    "        m = (l+r)//2\n",
    "        \n",
    "        if arr[m] == '':\n",
    "            p = m-1\n",
    "            q = m+1\n",
    "            while(True):\n",
    "                if(p<l and q>r):\n",
    "                    return -1\n",
    "                elif(q<=r and arr[q]!=''):\n",
    "                    m = q\n",
    "                    break\n",
    "                elif(p>=l and arr[p]!=''):\n",
    "                    m = p\n",
    "                    break\n",
    "                p -= 1\n",
    "                q += 1\n",
    "                \n",
    "        if arr[m] == X:\n",
    "            return m\n",
    "        elif arr[m][0]<X[0]:\n",
    "            l = m+1\n",
    "        else:\n",
    "            r = m-1"
   ]
  },
  {
   "cell_type": "code",
   "execution_count": 38,
   "metadata": {},
   "outputs": [
    {
     "data": {
      "text/plain": [
       "0"
      ]
     },
     "execution_count": 38,
     "metadata": {},
     "output_type": "execute_result"
    }
   ],
   "source": [
    "sparseSearch2(['at','','','','ball','','','car','','','dad','',''],'at')"
   ]
  },
  {
   "cell_type": "markdown",
   "metadata": {},
   "source": [
    "<a id='10.6'></a>\n",
    "### 10.6 Sort Big File"
   ]
  },
  {
   "cell_type": "markdown",
   "metadata": {},
   "source": [
    "<a id='10.7'></a>\n",
    "### 10.7 Missing Int"
   ]
  },
  {
   "cell_type": "markdown",
   "metadata": {},
   "source": [
    "<a id='10.8'></a>\n",
    "### 10.8 Find Duplicates"
   ]
  },
  {
   "cell_type": "markdown",
   "metadata": {},
   "source": [
    "<a id='10.9'></a>\n",
    "### [10.9 Sorted Matrix Search I](https://leetcode.com/problems/search-a-2d-matrix/)"
   ]
  },
  {
   "cell_type": "code",
   "execution_count": 1,
   "metadata": {},
   "outputs": [],
   "source": [
    "#O(m*n)\n",
    "\n",
    "def sortedMatrixSearch(matrix,k):\n",
    "    n = len(matrix)\n",
    "    m = len(matrix[0])\n",
    "    for i in range(n):\n",
    "        for j in range(m):\n",
    "            if matrix[i][j] == k:\n",
    "                return True\n",
    "    return False"
   ]
  },
  {
   "cell_type": "code",
   "execution_count": 4,
   "metadata": {},
   "outputs": [
    {
     "data": {
      "text/plain": [
       "True"
      ]
     },
     "execution_count": 4,
     "metadata": {},
     "output_type": "execute_result"
    }
   ],
   "source": [
    "sortedMatrixSearch([[1,3,5,7],[10,11,16,20],[23,30,34,50]],3)"
   ]
  },
  {
   "cell_type": "code",
   "execution_count": 19,
   "metadata": {},
   "outputs": [],
   "source": [
    "#O(n*logm)\n",
    "\n",
    "def binarySearch(nums,k,l,r):\n",
    "    if l>r:\n",
    "        return -1\n",
    "    \n",
    "    m = (l+r)//2\n",
    "    if nums[m] == k:\n",
    "        return m\n",
    "    elif k<nums[m]:\n",
    "        return binarySearch(nums,k,l,m-1)\n",
    "    else:\n",
    "        return binarySearch(nums,k,m+1,r)\n",
    "\n",
    "def sortedMatrixSearch2(matrix,k):\n",
    "    n = len(matrix)\n",
    "    m = len(matrix[0])\n",
    "    for i in range(n):\n",
    "        if binarySearch(matrix[i],k,0,m-1) != -1:\n",
    "            return True\n",
    "    return False"
   ]
  },
  {
   "cell_type": "code",
   "execution_count": 29,
   "metadata": {},
   "outputs": [
    {
     "data": {
      "text/plain": [
       "True"
      ]
     },
     "execution_count": 29,
     "metadata": {},
     "output_type": "execute_result"
    }
   ],
   "source": [
    "sortedMatrixSearch2([[1,3,5,7],[10,11,16,20],[23,30,34,50]],50)"
   ]
  },
  {
   "cell_type": "code",
   "execution_count": 32,
   "metadata": {},
   "outputs": [],
   "source": [
    "#O(log(nm))\n",
    "\n",
    "def sortedMatrixSearch3(matrix,k):\n",
    "    n = len(matrix)\n",
    "    m = len(matrix[0])\n",
    "    l = 0\n",
    "    r = n*m-1\n",
    "    while(l<=r):\n",
    "        mid = (l+r)//2\n",
    "        i,j = mid//m, mid%m\n",
    "        \n",
    "        if matrix[i][j] == k:\n",
    "            return True\n",
    "        elif k < matrix[i][j]:\n",
    "            r = mid-1\n",
    "        else:\n",
    "            l = mid+1\n",
    "            \n",
    "    return False"
   ]
  },
  {
   "cell_type": "code",
   "execution_count": 35,
   "metadata": {},
   "outputs": [
    {
     "data": {
      "text/plain": [
       "False"
      ]
     },
     "execution_count": 35,
     "metadata": {},
     "output_type": "execute_result"
    }
   ],
   "source": [
    "sortedMatrixSearch3([[1,3,5,7],[10,11,16,20],[23,30,34,50]],2)"
   ]
  },
  {
   "cell_type": "markdown",
   "metadata": {},
   "source": [
    "<a id='10.9B'></a>\n",
    "### [10.9 Sorted Matrix Search II](https://leetcode.com/problems/search-a-2d-matrix-ii/)"
   ]
  },
  {
   "cell_type": "code",
   "execution_count": 48,
   "metadata": {},
   "outputs": [],
   "source": [
    "#O(n+m)) - the greedy approach\n",
    "\n",
    "def searchSortedMatrix(matrix,k):\n",
    "    n = len(matrix)\n",
    "    m = len(matrix[0])\n",
    "    \n",
    "    i = 0\n",
    "    j = m-1\n",
    "    while(i<n and j>-1):\n",
    "        if matrix[i][j] == k:\n",
    "            return True\n",
    "        elif matrix[i][j] > k:\n",
    "            j -= 1\n",
    "        else:\n",
    "            i += 1\n",
    "    return False"
   ]
  },
  {
   "cell_type": "code",
   "execution_count": 50,
   "metadata": {},
   "outputs": [
    {
     "data": {
      "text/plain": [
       "True"
      ]
     },
     "execution_count": 50,
     "metadata": {},
     "output_type": "execute_result"
    }
   ],
   "source": [
    "searchSortedMatrix([[1,4,7,11,15],[2,5,8,12,19],[3,6,9,16,22],[10,13,14,17,24],[18,21,23,26,30]],21)"
   ]
  },
  {
   "cell_type": "markdown",
   "metadata": {},
   "source": [
    "<a id='10.10'></a>\n",
    "### 10.10 Rank from Stream"
   ]
  },
  {
   "cell_type": "code",
   "execution_count": 95,
   "metadata": {},
   "outputs": [],
   "source": [
    "class RankStream:\n",
    "    def __init__(self):\n",
    "        self.stack = []\n",
    "    \n",
    "    #O(logn) - using a BST\n",
    "    def track(self,x):\n",
    "        return\n",
    "    \n",
    "    #O(n) - using an array\n",
    "    def track(self,x):\n",
    "        if not self.stack:\n",
    "            self.stack.append(x)\n",
    "        \n",
    "        tempStack = []\n",
    "        while(self.stack and self.stack[-1]>x):\n",
    "            tempStack.append(self.stack.pop())\n",
    "        self.stack.append(x)\n",
    "        while(tempStack):\n",
    "            self.stack.append(tempStack.pop())\n",
    "    \n",
    "    #O(logn) - binary search\n",
    "    def getRankOfNumber(self,x):\n",
    "        l = 0\n",
    "        r = len(self.stack)-1\n",
    "        while(l<=r):\n",
    "            m = (l+r)//2\n",
    "            if self.stack[m] == x:\n",
    "                while(m<r and x == self.stack[m+1]):\n",
    "                    m += 1\n",
    "                return m\n",
    "            elif x < self.stack[m]:\n",
    "                r = m-1\n",
    "            else:\n",
    "                l = m+1\n",
    "        return l\n",
    "    \n",
    "    #O(n) - linear search\n",
    "    def getRankOfNumber2(self,x):\n",
    "        rank = 0\n",
    "        while(rank<len(self.stack) and self.stack[rank] <= x):\n",
    "            rank += 1\n",
    "        return rank-1"
   ]
  },
  {
   "cell_type": "code",
   "execution_count": 96,
   "metadata": {},
   "outputs": [
    {
     "name": "stdout",
     "output_type": "stream",
     "text": [
      "0 1 3\n",
      "0 1 3\n"
     ]
    }
   ],
   "source": [
    "nums = [5,1,4,4,5,9,7,13,3]\n",
    "RS = RankStream()\n",
    "for n in nums:\n",
    "    RS.track(n)\n",
    "\n",
    "print(RS.getRankOfNumber(1),RS.getRankOfNumber(3),RS.getRankOfNumber(4))\n",
    "print(RS.getRankOfNumber2(1),RS.getRankOfNumber2(3),RS.getRankOfNumber2(4))"
   ]
  },
  {
   "cell_type": "markdown",
   "metadata": {},
   "source": [
    "<a id='10.11'></a>\n",
    "### 10.11 Peaks and Valleys"
   ]
  },
  {
   "cell_type": "code",
   "execution_count": 102,
   "metadata": {},
   "outputs": [],
   "source": [
    "#O(nlogn) - sort + swap\n",
    "\n",
    "def peaksValleys(nums):\n",
    "    nums.sort()\n",
    "    i = 0\n",
    "    while(i < len(nums)-1):\n",
    "        nums[i],nums[i+1] = nums[i+1],nums[i]\n",
    "        i += 2\n",
    "    return nums"
   ]
  },
  {
   "cell_type": "code",
   "execution_count": 106,
   "metadata": {},
   "outputs": [
    {
     "data": {
      "text/plain": [
       "[1, 0, 7, 4, 9, 8]"
      ]
     },
     "execution_count": 106,
     "metadata": {},
     "output_type": "execute_result"
    }
   ],
   "source": [
    "peaksValleys([9,1,0,4,8,7])"
   ]
  },
  {
   "cell_type": "code",
   "execution_count": null,
   "metadata": {},
   "outputs": [],
   "source": []
  }
 ],
 "metadata": {
  "kernelspec": {
   "display_name": "Python 3",
   "language": "python",
   "name": "python3"
  },
  "language_info": {
   "codemirror_mode": {
    "name": "ipython",
    "version": 3
   },
   "file_extension": ".py",
   "mimetype": "text/x-python",
   "name": "python",
   "nbconvert_exporter": "python",
   "pygments_lexer": "ipython3",
   "version": "3.6.9"
  }
 },
 "nbformat": 4,
 "nbformat_minor": 4
}
