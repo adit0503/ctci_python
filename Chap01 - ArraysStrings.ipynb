{
 "cells": [
  {
   "cell_type": "markdown",
   "metadata": {},
   "source": [
    "# Chapter 1: Arrays & Strings\n",
    "1. Is Unique\n",
    "2. Check Permuattion\n",
    "3. URLify\n",
    "4. Palindrome Permutation\n",
    "5. One Away\n",
    "6. String Compression\n",
    "7. Rotate Matrix\n",
    "8. Zero Matrix\n",
    "9. String Rotation"
   ]
  },
  {
   "cell_type": "code",
   "execution_count": 1,
   "metadata": {},
   "outputs": [],
   "source": [
    "import random, string"
   ]
  },
  {
   "cell_type": "markdown",
   "metadata": {},
   "source": [
    "## 1.1 IsUnique"
   ]
  },
  {
   "cell_type": "code",
   "execution_count": 2,
   "metadata": {},
   "outputs": [],
   "source": [
    "class IsUnique:\n",
    "    \n",
    "    #O(n) - using a hashset to store unique char\n",
    "    def find1(self, S):\n",
    "        setS = set(S)\n",
    "        return len(setS) == len(S)\n",
    "    \n",
    "    #O(n) - using boolean array\n",
    "    def find2(self, S):\n",
    "        temp = [0 for _ in range(26*2+8)]\n",
    "        for s in S:\n",
    "            i = ord(s)-ord('A')\n",
    "            if temp[i]:\n",
    "                return False\n",
    "            temp[i] = 1\n",
    "        return True\n",
    "    \n",
    "    #O(n) - using bit manipulation\n",
    "    def find3(self, S):\n",
    "        temp = 0\n",
    "        for s in S:\n",
    "            i = ord(s)-ord('A')\n",
    "            if temp & (1<<i):\n",
    "                return False\n",
    "            temp |= (1<<i)\n",
    "        return True\n",
    "    \n",
    "    #O(n2) - without using additional data structure\n",
    "    def find4(self, S):\n",
    "        for i in range(len(S)-1):\n",
    "            for j in range(i+1,len(S)):\n",
    "                if S[i]==S[j]:\n",
    "                    return False\n",
    "        return True\n",
    "    \n",
    "    #O(nlogn) - sort the given string\n",
    "    def find5(self, S):\n",
    "        sortS = sorted(S)\n",
    "        for i in range(len(sortS)-1):\n",
    "            if sortS[i]==sortS[i+1]:\n",
    "                return False\n",
    "        return True"
   ]
  },
  {
   "cell_type": "code",
   "execution_count": 32,
   "metadata": {},
   "outputs": [
    {
     "name": "stdout",
     "output_type": "stream",
     "text": [
      "kKnEmJyoxMdjKexpFHO\n",
      "False False False False False\n",
      "\n"
     ]
    }
   ],
   "source": [
    "IU = IsUnique()\n",
    "\n",
    "S = ''.join(random.choices(string.ascii_letters, k=random.randint(1,100)))\n",
    "print(S)\n",
    "print(IU.find1(S), IU.find2(S), IU.find3(S), IU.find4(S), IU.find5(S), end='\\n\\n')"
   ]
  },
  {
   "cell_type": "markdown",
   "metadata": {},
   "source": [
    "## 1.2 Check Permutation"
   ]
  },
  {
   "cell_type": "code",
   "execution_count": 27,
   "metadata": {},
   "outputs": [],
   "source": [
    "class CheckPermutation:\n",
    "    \n",
    "    #O(nlogn) - sorting the strings and comparing\n",
    "    def check1(self, S1, S2):\n",
    "        return sorted(S1) == sorted(S2)\n",
    "    \n",
    "    #O(n) - using a dict\n",
    "    def check2(self, S1, S2):\n",
    "        if len(S1) != len(S2):\n",
    "            return False\n",
    "        temp = {}\n",
    "        for s in S1:\n",
    "            temp[s] = temp.get(s,0) + 1\n",
    "        for s in S2:\n",
    "            if not temp.get(s,0):\n",
    "                return False\n",
    "            temp[s] -= 1\n",
    "        return True"
   ]
  },
  {
   "cell_type": "code",
   "execution_count": 31,
   "metadata": {},
   "outputs": [
    {
     "name": "stdout",
     "output_type": "stream",
     "text": [
      "False\n"
     ]
    }
   ],
   "source": [
    "CP = CheckPermutation()\n",
    "\n",
    "S1 = 'qwerty'\n",
    "S2 = 'ytreee'\n",
    "print(CP.check2(S1, S2))"
   ]
  },
  {
   "cell_type": "markdown",
   "metadata": {},
   "source": [
    "## 1.3 URLify"
   ]
  },
  {
   "cell_type": "code",
   "execution_count": 46,
   "metadata": {},
   "outputs": [],
   "source": [
    "class Urlify:\n",
    "    \n",
    "    #O(S) - backwards traversing\n",
    "    def compute1(self, S, l):\n",
    "        S = list(S)\n",
    "        i,j = len(S)-1, l-1\n",
    "        while(j>0):\n",
    "            if S[j] == ' ':\n",
    "                S[i-2:i+1] = '%20'\n",
    "                i -= 3\n",
    "            else:\n",
    "                S[i] = S[j]\n",
    "                i -= 1\n",
    "            j -= 1\n",
    "        return ''.join(S)"
   ]
  },
  {
   "cell_type": "code",
   "execution_count": 47,
   "metadata": {},
   "outputs": [
    {
     "name": "stdout",
     "output_type": "stream",
     "text": [
      "M%20John%20Smith\n"
     ]
    }
   ],
   "source": [
    "U = Urlify()\n",
    "\n",
    "print(U.compute1('M John Smith    ',12))"
   ]
  },
  {
   "cell_type": "markdown",
   "metadata": {},
   "source": [
    "## 1.4 Palindrome Permutation"
   ]
  },
  {
   "cell_type": "code",
   "execution_count": null,
   "metadata": {},
   "outputs": [],
   "source": [
    "class PalindromePermutation:\n",
    "    \n",
    "    def find1()"
   ]
  }
 ],
 "metadata": {
  "kernelspec": {
   "display_name": "Python 3",
   "language": "python",
   "name": "python3"
  },
  "language_info": {
   "codemirror_mode": {
    "name": "ipython",
    "version": 3
   },
   "file_extension": ".py",
   "mimetype": "text/x-python",
   "name": "python",
   "nbconvert_exporter": "python",
   "pygments_lexer": "ipython3",
   "version": "3.8.5"
  }
 },
 "nbformat": 4,
 "nbformat_minor": 4
}
